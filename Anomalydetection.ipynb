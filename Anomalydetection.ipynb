{
 "cells": [
  {
   "cell_type": "markdown",
   "id": "14fc4b76",
   "metadata": {},
   "source": [
    "# ホールドアウト検証"
   ]
  },
  {
   "cell_type": "code",
   "execution_count": null,
   "id": "b988d371",
   "metadata": {},
   "outputs": [],
   "source": [
    "import numpy as np\n",
    "import pandas as pd\n",
    "import librosa as lb\n",
    "import os\n",
    "import h5py\n",
    "import joblib #並列処理のためのライブラリ\n",
    "import shutil\n",
    "from tqdm import tqdm # for文の進捗をプログレスバーで可視化する\n",
    "import matplotlib.pyplot as plt\n",
    "import glob\n",
    "import wave\n",
    "\n",
    "# モデルの再現性確保\n",
    "import tensorflow as tf\n",
    "os.environ['PYTHONHASHSEED'] = '0'\n",
    "os.environ['TF_DETERMINISTIC_OPS'] = '1'\n",
    "np.random.seed(1)\n",
    "tf.random.set_seed(1)"
   ]
  },
  {
   "cell_type": "markdown",
   "id": "80d3f4d3",
   "metadata": {},
   "source": [
    "訓練データのパスを定義"
   ]
  },
  {
   "cell_type": "code",
   "execution_count": null,
   "id": "d2439d9f",
   "metadata": {},
   "outputs": [],
   "source": [
    "datas_dir = '../data/wav/'\n",
    "'''\n",
    "testdata : '210921_0032.wav' # 最終的な性能を評価するためのデータ\n",
    "valdata : '210922_0033.wav' # 閾値などを検討する際に使用するデータ\n",
    "'''\n",
    "# testdata,valdataを除く8日分のデータを前半と後半に分ける\n",
    "firsthalf_traindata = [datas_dir+'210919_0031.wav', datas_dir+'210923_0034.wav', datas_dir+'210924_0035.wav', datas_dir+'210925_0036.wav']\n",
    "latterhalf_traindata = [datas_dir+'210926_0037.wav', datas_dir+'210927_0038.wav', datas_dir+'210928_0039.wav', datas_dir+'210929_0040.wav']\n",
    "\n",
    "all_traindata = firsthalf_traindata+latterhalf_traindata # テストデータ,valdataを除く8日分のデータのパス\n",
    "each_data_path_group = (firsthalf_traindata, latterhalf_traindata)"
   ]
  },
  {
   "cell_type": "markdown",
   "id": "9bb60105",
   "metadata": {},
   "source": [
    "前半，後半それぞれのラベルデータ(異常ラベル追加前)の配列をタプルでまとめる"
   ]
  },
  {
   "cell_type": "code",
   "execution_count": null,
   "id": "526e8c82",
   "metadata": {},
   "outputs": [],
   "source": [
    "label_data_dir = '../data/original_label/'\n",
    "\n",
    "label_df_firsthalf_traindata = [] # 前半データの正解ラベルのデータフレームを格納したリスト\n",
    "for i in firsthalf_traindata:\n",
    "    label_data_name = i.split('/')[-1].replace('.wav', '.csv') \n",
    "    label_data_file = label_data_dir+label_data_name\n",
    "    label_data_df=pd.read_csv(label_data_file, skiprows=4, usecols=[1], header=None) \n",
    "    label_array = label_data_df.iloc[:, 0].values\n",
    "    label_df_firsthalf_traindata.append(label_array)\n",
    "\n",
    "label_df_latterhalf_traindata = [] # 後半データの正解ラベルのデータフレームを格納したリスト\n",
    "for i in latterhalf_traindata:\n",
    "    label_data_name = i.split('/')[-1].replace('.wav', '.csv') \n",
    "    label_data_file = label_data_dir+label_data_name\n",
    "    label_data_df=pd.read_csv(label_data_file, skiprows=4, usecols=[1], header=None)\n",
    "    label_array = label_data_df.iloc[:, 0].values\n",
    "    label_df_latterhalf_traindata.append(label_array)\n",
    "    \n",
    "each_data_original_array_group = (label_df_firsthalf_traindata, label_df_latterhalf_traindata)"
   ]
  },
  {
   "cell_type": "markdown",
   "id": "8ecfff18",
   "metadata": {},
   "source": [
    "閾値を求める際に使用するデータのパス"
   ]
  },
  {
   "cell_type": "code",
   "execution_count": null,
   "id": "6bccdb74",
   "metadata": {},
   "outputs": [],
   "source": [
    "threshold_data_path = '../data/threshold/NormalandAnormSound.hdf5'"
   ]
  },
  {
   "cell_type": "markdown",
   "id": "4b9bc1cc",
   "metadata": {},
   "source": [
    "各日のメルスペクトログラムが保存されたhdfファイルのパス"
   ]
  },
  {
   "cell_type": "code",
   "execution_count": null,
   "id": "028a7ed7",
   "metadata": {},
   "outputs": [],
   "source": [
    "eachday_hdf = '../data/eachday/eachday.hdf5'"
   ]
  },
  {
   "cell_type": "markdown",
   "id": "08b11aeb",
   "metadata": {},
   "source": [
    "メルスペクトログラムのパラメータ"
   ]
  },
  {
   "cell_type": "code",
   "execution_count": null,
   "id": "65aeddcd",
   "metadata": {},
   "outputs": [],
   "source": [
    "sr = 16000 # サンプリング周波数\n",
    "duration = 1 # メルスペクトログラムの時間幅[s]\n",
    "melparams = {'sr':sr, 'n_mels':128, 'fmin':0, 'fmax':sr/2} # メルスペクトログラムのパラメータ"
   ]
  },
  {
   "cell_type": "markdown",
   "id": "9672f047",
   "metadata": {},
   "source": [
    "データ拡張用のオブジェクト"
   ]
  },
  {
   "cell_type": "code",
   "execution_count": null,
   "id": "9460e23d",
   "metadata": {},
   "outputs": [],
   "source": [
    "# データ拡張のためのクラスをimport \n",
    "from audio_DA import Multiple, ResampleWaveform, GaussianNoiseSNR, PinkNoiseSNR, PitchShift, TimeShift, VolumeShift\n",
    "\n",
    "# 複数の音声処理の関数\n",
    "# なんの音声処理をするかを決める\n",
    "transform = Multiple([\n",
    "    GaussianNoiseSNR(min_snr=15, max_snr=30),\n",
    "    PinkNoiseSNR(min_snr=8, max_snr=30),\n",
    "    PitchShift(max_steps=2, sr=sr),\n",
    "    TimeShift(sr=sr),\n",
    "    VolumeShift(mode=\"cosine\")\n",
    "])"
   ]
  },
  {
   "cell_type": "code",
   "execution_count": null,
   "id": "d1ec04e7",
   "metadata": {
    "scrolled": true
   },
   "outputs": [],
   "source": [
    "from AutoEncoder import AutoEncoder\n",
    "\n",
    "SemiSLAutoEncoder = AutoEncoder(\n",
    "    each_data_path_group=each_data_path_group, each_data_original_array_group=each_data_original_array_group, \n",
    "    threshold_data_path=threshold_data_path, eachday_hdf=eachday_hdf, transform=transform, \n",
    "    sr=sr, duration=duration, melparams=melparams)"
   ]
  },
  {
   "cell_type": "markdown",
   "id": "308f4600",
   "metadata": {},
   "source": [
    "## 学習フェーズ"
   ]
  },
  {
   "cell_type": "code",
   "execution_count": null,
   "id": "2b661e45",
   "metadata": {
    "scrolled": true
   },
   "outputs": [],
   "source": [
    "SemiSLAutoEncoder.co_fit(2, 2048, 60)"
   ]
  },
  {
   "cell_type": "code",
   "execution_count": null,
   "id": "13bf42ee",
   "metadata": {
    "scrolled": true
   },
   "outputs": [],
   "source": [
    "SemiSLAutoEncoder.all_fit(2048, 100)"
   ]
  },
  {
   "cell_type": "markdown",
   "id": "475f88d2",
   "metadata": {},
   "source": [
    "## 推論フェーズ"
   ]
  },
  {
   "cell_type": "code",
   "execution_count": null,
   "id": "585a51c4",
   "metadata": {},
   "outputs": [],
   "source": [
    "# duration単位の異常度の結果を0.2秒単位に変換する\n",
    "def result_to_200ms(result, duration):\n",
    "    import numpy as np\n",
    "    total_time = len(result)*duration\n",
    "    step =int(duration/0.2)\n",
    "    result_200ms = np.zeros(int(total_time/0.2))\n",
    "    for i in range(len(result)):\n",
    "        if i<len(result)-1:\n",
    "            result_200ms[i*step:(i+1)*step] = result[i]\n",
    "        else:\n",
    "            result_200ms[i*step:] = result[i]\n",
    "\n",
    "    return result_200ms\n",
    "\n",
    "'''\n",
    "0.２秒単位の配列を1秒単位の配列に変換する\n",
    "'''\n",
    "def label_to_sec(label):\n",
    "    import numpy as np\n",
    "    unit_sec = int(1/0.2)\n",
    "#     print(type(unit_sec))\n",
    "#     print(unit_sec)\n",
    "    label_sec_array = label[unit_sec::unit_sec]\n",
    "\n",
    "    return label_sec_array"
   ]
  },
  {
   "cell_type": "code",
   "execution_count": null,
   "id": "bf9334b2",
   "metadata": {},
   "outputs": [],
   "source": [
    "# 適合率・再現率・F値の可視化\n",
    "def fig_pre_re_f(list, pre,re,fscore):\n",
    "    fig, ax = plt.subplots(facecolor=\"w\")\n",
    "    ax.set_xlabel(\"Threshold\")\n",
    "    ax.grid()\n",
    "\n",
    "    ax.plot(list, pre, label=\"Precision\", marker='o')\n",
    "    ax.plot(list, re, label=\"Recall\", marker='s')\n",
    "    ax.plot(list, fscore, label=\"fscore\", marker='v')\n",
    "    ax.legend()\n",
    "# F値の可視化\n",
    "def fig_fscore(list,fscores):\n",
    "    fig, ax = plt.subplots(facecolor=\"w\")\n",
    "    ax.set_xlabel(\"Threshold\")\n",
    "    ax.grid()\n",
    "    ax.plot(list, fscores, label=\"fscore\")\n",
    "    ax.legend()\n",
    "# 適合率の可視化\n",
    "def fig_precision(list,pre):\n",
    "    fig, ax = plt.subplots(facecolor=\"w\")\n",
    "    ax.set_xlabel(\"Threshold\")\n",
    "    ax.grid()\n",
    "    ax.plot(list, pre, label=\"Precision\")\n",
    "    ax.legend()\n",
    "# 再現率の可視化\n",
    "def fig_recall(list,re):\n",
    "    fig, ax = plt.subplots(facecolor=\"w\")\n",
    "    ax.set_xlabel(\"Threshold\")\n",
    "    ax.grid()\n",
    "    ax.plot(list, re, label=\"Recall\")\n",
    "    ax.legend()\n",
    "    \n",
    "# PR曲線\n",
    "def fig_PR(test, score, bins):\n",
    "    \"\"\"\n",
    "    test:一列目に正解ラベルが記入されたデータフレーム\n",
    "    score：異常度\n",
    "    bins：PR曲線の閾値の数(計算時に切り捨てをしているので正確にこの数にはならない)\n",
    "    \"\"\"\n",
    "    from sklearn.metrics import precision_recall_curve, auc\n",
    "    \n",
    "    test_array = test.iloc[:, 0].values\n",
    "    print('test_array:', test_array)\n",
    "    print('test:', test)\n",
    "    print(np.bincount(test_array))  \n",
    "    test_array = np.where(test_array==2, 1, test_array)\n",
    "    print(np.bincount(test_array))   \n",
    "    \n",
    "    _, _, thresholds = precision_recall_curve(test_array, score)\n",
    "    interval = int(len(thresholds)/bins)\n",
    "    thr = thresholds[:-1][::interval]\n",
    "    print(thresholds[-1])\n",
    "    thr =  np.append(thr, thresholds[-1])\n",
    "    \n",
    "    precision = np.zeros(len(thr))\n",
    "    recall = np.zeros(len(thr))\n",
    "    for i in range(len(thr)):\n",
    "        precision[i], recall[i]=validate(test, score, thr[i])\n",
    "    auc_score = auc(recall, precision)\n",
    "    print(f'auc:{auc_score}')\n",
    "        \n",
    "    # PR曲線\n",
    "    fig, ax = plt.subplots(facecolor=\"w\", figsize=(5, 5))\n",
    "    plt.gca().yaxis.set_major_formatter(plt.FormatStrFormatter('%.2f')) # 軸メモリの桁数\n",
    "    plt.gca().xaxis.set_major_formatter(plt.FormatStrFormatter('%.2f')) #軸メモリの桁数\n",
    "    ax.grid()\n",
    "    ax.plot(recall, precision)\n",
    "    ax.set_xlabel('再現率', fontname=\"MS Mincho\", fontsize=15)\n",
    "    ax.set_ylabel('適合率', fontname=\"MS Mincho\", fontsize=15)\n",
    "    \n",
    "    return auc_score"
   ]
  },
  {
   "cell_type": "markdown",
   "id": "2927d928",
   "metadata": {},
   "source": [
    "ハイパーパラメータの調整"
   ]
  },
  {
   "cell_type": "code",
   "execution_count": null,
   "id": "0b031ef4",
   "metadata": {},
   "outputs": [],
   "source": [
    "from validate import validate\n",
    "import matplotlib.pyplot as plt\n",
    "\n",
    "'''\n",
    "testdata : '210921_0032.wav' # 最終的な性能を評価するためのデータ\n",
    "valdata : '210922_0033.wav' # 閾値などを検討する際に使用するデータ\n",
    "'''\n",
    "\n",
    "# 検証データ\n",
    "testdata = '210922_0033'\n",
    "testdata_path = '../data/wav/'+testdata+'.wav'\n",
    "label_data_file = '../data/fixed_label/-2109230700.csv'\n",
    "\n",
    "model_path = '../trainedmodel/alltraindata/sslautoencoder.hd5'"
   ]
  },
  {
   "cell_type": "markdown",
   "id": "c2f705c2",
   "metadata": {},
   "source": [
    "(差分画像を何倍するか)"
   ]
  },
  {
   "cell_type": "code",
   "execution_count": null,
   "id": "409fb781",
   "metadata": {
    "scrolled": true
   },
   "outputs": [],
   "source": [
    "list = [0.3, 0.29, 0.28, 0.27, 0.26, 0.25, 0.24, 0.23, 0.22, 0.21, 0.2]\n",
    "\n",
    "pre=[]\n",
    "re=[]\n",
    "for i in list:\n",
    "    print('='*50)\n",
    "    print(f'パラメータ：{i}')\n",
    "    anomary_scores, notburied_anomary_scores, abnorm_thr = SemiSLAutoEncoder.predict(testdata_path, model_path, xbox=1.5, xdiff=i)\n",
    "    anomary_scores_200ms = result_to_200ms(anomary_scores, duration) #duration:フレームの時間幅\n",
    "    notburied_anomary_scores_200ms = result_to_200ms(notburied_anomary_scores, duration) #duration:フレームの時間幅    \n",
    "    testlabel_data_df=pd.read_csv(label_data_file, skiprows=4, usecols=[0, 1], header=None)  # fileをデータフレームに出力\n",
    "    testlabel_data_array = testlabel_data_df.iloc[:, 1].values    \n",
    "    if len(testlabel_data_array)<=len(anomary_scores_200ms): \n",
    "        anomary_scores_200ms = anomary_scores_200ms[:len(testlabel_data_array)]\n",
    "        notburied_anomary_scores_200ms = notburied_anomary_scores_200ms[:len(testlabel_data_array)]\n",
    "    else:\n",
    "        testlabel_data_array = testlabel_data_array[:len(anomary_scores_200ms)]\n",
    "\n",
    "    df = pd.DataFrame(data=testlabel_data_array, columns=['label'])\n",
    "    \n",
    "    print('差分画像を使った異常音判別結果')\n",
    "    pre_score, re_score=validate(df[:198000], notburied_anomary_scores_200ms[:198000], abnorm_thr)#ノイズが少ない部分（11時間分)のデータを使う\n",
    "    pre.append(pre_score)\n",
    "    re.append(re_score)"
   ]
  },
  {
   "cell_type": "code",
   "execution_count": null,
   "id": "20c2539e",
   "metadata": {},
   "outputs": [],
   "source": [
    "# F値\n",
    "fscores = []\n",
    "for i in range(len(pre)):\n",
    "    f = (2*pre[i]*re[i])/(pre[i]+re[i])\n",
    "    fscores.append(f)"
   ]
  },
  {
   "cell_type": "code",
   "execution_count": null,
   "id": "84d5919e",
   "metadata": {
    "scrolled": true
   },
   "outputs": [],
   "source": [
    "fig_pre_re_f(list, pre,re,fscores)\n",
    "fig_fscore(list,fscores)\n",
    "fig_precision(list, pre)\n",
    "fig_recall(list, re)"
   ]
  },
  {
   "cell_type": "markdown",
   "id": "f067f4e1",
   "metadata": {},
   "source": [
    "テストデータに対する異常度算出"
   ]
  },
  {
   "cell_type": "code",
   "execution_count": null,
   "id": "c1c739d2",
   "metadata": {},
   "outputs": [],
   "source": [
    "'''\n",
    "testdata : '210921_0032.wav' # 最終的な性能を評価するためのデータ\n",
    "valdata : '210922_0033.wav' # 閾値などを検討する際に使用するデータ\n",
    "'''\n",
    "# テストデータ\n",
    "testdata = '210921_0032'\n",
    "testdata_path = '../data/wav/'+testdata+'.wav'\n",
    "label_data_file = '../data/fixed_label/-2109220600.csv'\n",
    "\n",
    "model_path = '../trainedmodel/alltraindata/sslautoencoder.hd5'"
   ]
  },
  {
   "cell_type": "code",
   "execution_count": null,
   "id": "57bcd8d2",
   "metadata": {},
   "outputs": [],
   "source": [
    "anomary_scores, notburied_anomary_scores, abnorm_thr = SemiSLAutoEncoder.predict(testdata_path, model_path, xbox=1.5, xdiff=0.26)"
   ]
  },
  {
   "cell_type": "code",
   "execution_count": null,
   "id": "d88c0407",
   "metadata": {},
   "outputs": [],
   "source": [
    "anomary_scores_200ms = result_to_200ms(anomary_scores, duration) \n",
    "notburied_anomary_scores_200ms = result_to_200ms(notburied_anomary_scores, duration) "
   ]
  },
  {
   "cell_type": "markdown",
   "id": "6d647aeb",
   "metadata": {},
   "source": [
    "テストデータの正解ラベルを読み込む"
   ]
  },
  {
   "cell_type": "code",
   "execution_count": null,
   "id": "8ea80ad3",
   "metadata": {},
   "outputs": [],
   "source": [
    "testlabel_data_df=pd.read_csv(label_data_file, skiprows=4, usecols=[0, 1], header=None)  # fileをデータフレームに出力\n",
    "display(testlabel_data_df)\n",
    "testlabel_data_array = testlabel_data_df.iloc[:, 1].values"
   ]
  },
  {
   "cell_type": "code",
   "execution_count": null,
   "id": "79628e95",
   "metadata": {},
   "outputs": [],
   "source": [
    "# 騒音データと音声データの長さが違うので，正解ラベルの配列と異常度の配列の長さをそろえる必要がある\n",
    "if len(testlabel_data_array)<=len(anomary_scores_200ms): \n",
    "    anomary_scores_200ms = anomary_scores_200ms[:len(testlabel_data_array)]\n",
    "    notburied_anomary_scores_200ms = notburied_anomary_scores_200ms[:len(testlabel_data_array)]\n",
    "else:\n",
    "    testlabel_data_array = testlabel_data_array[:len(anomary_scores_200ms)]"
   ]
  },
  {
   "cell_type": "markdown",
   "id": "3a0e9852",
   "metadata": {},
   "source": [
    "評価値算出"
   ]
  },
  {
   "cell_type": "code",
   "execution_count": null,
   "id": "1ae6a84e",
   "metadata": {
    "scrolled": true
   },
   "outputs": [],
   "source": [
    "from validate import validate\n",
    "\n",
    "df = pd.DataFrame(data=testlabel_data_array, columns=['label'])\n",
    "auc = fig_PR(df, anomary_scores_200ms, 50)"
   ]
  },
  {
   "cell_type": "code",
   "execution_count": null,
   "id": "5c77c45e",
   "metadata": {
    "scrolled": true
   },
   "outputs": [],
   "source": [
    "df = pd.DataFrame(data=testlabel_data_array, columns=['label'])\n",
    "notburied_auc = fig_PR(df, notburied_anomary_scores_200ms, 50)"
   ]
  },
  {
   "cell_type": "code",
   "execution_count": null,
   "id": "12fb6022",
   "metadata": {},
   "outputs": [],
   "source": [
    "df = pd.DataFrame(data=testlabel_data_array, columns=['label'])\n",
    "print('差分画像を使わない異常音判別結果')\n",
    "validate(df, anomary_scores_200ms, abnorm_thr)\n",
    "print(f'AUC:{auc}')\n",
    "\n",
    "print('差分画像を使った異常音判別結果')\n",
    "validate(df, notburied_anomary_scores_200ms, abnorm_thr)\n",
    "print(f'AUC:{notburied_auc}')"
   ]
  },
  {
   "cell_type": "markdown",
   "id": "5d2cfcbe",
   "metadata": {},
   "source": [
    "グラフ描画"
   ]
  },
  {
   "cell_type": "code",
   "execution_count": null,
   "id": "1c461497",
   "metadata": {
    "scrolled": true
   },
   "outputs": [],
   "source": [
    "import matplotlib.pyplot as plt\n",
    "from matplotlib.dates import date2num\n",
    "from matplotlib.dates import DateFormatter\n",
    "import matplotlib.dates as mdates\n",
    "\n",
    "# 0.2秒単位の配列を1秒単位の正解ラベルに変換する\n",
    "anomary_scores_sec_array = label_to_sec(anomary_scores_200ms)\n",
    "notburied_anomary_scores_sec_array = label_to_sec(notburied_anomary_scores_200ms)\n",
    "label_sec_array = label_to_sec(testlabel_data_array)\n",
    "\n",
    "time_index = pd.date_range(start='2022-09-21 06:00:00', end='2022-09-21 22:00:00', freq='S')\n",
    "time_index = time_index[:len(anomary_scores_sec_array)]\n",
    "\n",
    "graphnum = -(-len(time_index)//3600)\n",
    "# plt.rcParams['font.size']=18\n",
    "figure, axes = plt.subplots(graphnum, 1, figsize=(35, 300))\n",
    "for i in range(graphnum):\n",
    "\n",
    "    axes[i].plot(date2num(time_index), (notburied_anomary_scores_sec_array), label=\"異常度\")\n",
    "    axes[i].fill_between(date2num(time_index), label_sec_array, color='red', alpha=0.5, label=\"異常ラベル\")\n",
    "    \n",
    "    axes[i].set_xlabel('時刻', fontname=\"MS Mincho\", fontsize=40)\n",
    "    axes[i].set_ylabel('異常度', fontname=\"MS Mincho\", fontsize=40)\n",
    "    axes[i].xaxis.set_tick_params(labelsize = 35)\n",
    "    axes[i].yaxis.set_tick_params(labelsize = 35)\n",
    "\n",
    "    axes[i].legend(loc='lower center', bbox_to_anchor=(.5, 1.), ncol=2, prop={'family':\"MS Mincho\", 'size':35})\n",
    "\n",
    "#     axes[i].set_xlabel('Time')\n",
    "#     axes[i].set_ylabel('Abnormality')\n",
    "\n",
    "    axes[i].set_ylim(abnorm_thr, 0.003)\n",
    "    if i<(graphnum-1):\n",
    "        axes[i].set_xlim(\n",
    "            date2num(time_index[3600*i]), date2num(time_index[3600*(i+1)]))\n",
    "    else:\n",
    "        axes[i].set_xlim(date2num(time_index[3600*i]), date2num(time_index[-1]))\n",
    "        \n",
    "    axes[i].xaxis.set_major_formatter(DateFormatter('%H:%M'))\n",
    "    #5分おきにラベル\n",
    "    Minute1=mdates.MinuteLocator(range(60),5)   \n",
    "    axes[i].xaxis.set_major_locator(Minute1)"
   ]
  }
 ],
 "metadata": {
  "kernelspec": {
   "display_name": "Python 3 (ipykernel)",
   "language": "python",
   "name": "python3"
  },
  "language_info": {
   "codemirror_mode": {
    "name": "ipython",
    "version": 3
   },
   "file_extension": ".py",
   "mimetype": "text/x-python",
   "name": "python",
   "nbconvert_exporter": "python",
   "pygments_lexer": "ipython3",
   "version": "3.7.13"
  }
 },
 "nbformat": 4,
 "nbformat_minor": 5
}
